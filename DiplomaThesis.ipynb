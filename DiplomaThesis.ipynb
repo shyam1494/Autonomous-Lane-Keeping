{
  "cells": [
    {
      "cell_type": "markdown",
      "metadata": {
        "id": "zWdp7VnIYsK2"
      },
      "source": [
        "# Images and Steering Angle Downloaded from Kaggle\n",
        "\n",
        "\n"
      ]
    },
    {
      "cell_type": "code",
      "execution_count": null,
      "metadata": {
        "id": "xyLACcV6WoI9"
      },
      "outputs": [],
      "source": [
        "\n",
        "%%capture\n",
        "!pip install kaggle\n",
        "!mkdir ~/.kaggle\n",
        "! cp kaggle.json ~/.kaggle/\n",
        "! chmod 600 ~/.kaggle/kaggle.json\n"
      ]
    },
    {
      "cell_type": "code",
      "source": [
        "# !kaggle datasets download -d shyamsundaravce/thesis\n",
        "!unzip thesis -d images"
      ],
      "metadata": {
        "id": "lGAfbmC_EJMZ"
      },
      "execution_count": null,
      "outputs": []
    },
    {
      "cell_type": "markdown",
      "metadata": {
        "id": "nKZ-urtyY-bV"
      },
      "source": [
        "# Import Libraries"
      ]
    },
    {
      "cell_type": "code",
      "execution_count": null,
      "metadata": {
        "id": "1-4veHsFZIED",
        "pycharm": {
          "is_executing": true
        },
        "tags": []
      },
      "outputs": [],
      "source": [
        "import cv2\n",
        "import numpy as np;\n",
        "import pandas as pd;\n",
        "import tensorflow\n",
        "from keras.models import Sequential\n",
        "from keras.layers import (\n",
        "    Dense,\n",
        "    Conv2D,\n",
        "    MaxPool2D,\n",
        "    Flatten,\n",
        "    Dropout,\n",
        "    BatchNormalization,\n",
        "    Lambda\n",
        ")\n",
        "from keras.optimizers import Adam;\n",
        "from keras.losses import mse;\n",
        "from keras.callbacks import EarlyStopping,ModelCheckpoint;\n",
        "from sklearn.model_selection import train_test_split\n",
        "import os\n",
        "import random\n"
      ]
    },
    {
      "cell_type": "code",
      "execution_count": null,
      "metadata": {
        "tags": [],
        "id": "kyr63SUbDk1K"
      },
      "outputs": [],
      "source": [
        "def load_img_steering(datadir, data):\n",
        "    image_path = []\n",
        "    steering = []\n",
        "    for i in range(len(data)):\n",
        "        index,lane_img,angle = data.iloc[i]\n",
        "        image_path.append(os.path.join(datadir,lane_img))\n",
        "        steering.append(angle)\n",
        "    image_paths = np.asarray(image_path)\n",
        "    steerings = np.asarray(steering)\n",
        "    return image_paths, steerings"
      ]
    },
    {
      "cell_type": "code",
      "execution_count": null,
      "metadata": {
        "tags": [],
        "colab": {
          "base_uri": "https://localhost:8080/"
        },
        "id": "VI7S-h4mDk1K",
        "outputId": "fdec0aed-8403-46c8-ea3c-77ce279e5c49"
      },
      "outputs": [
        {
          "output_type": "stream",
          "name": "stdout",
          "text": [
            "Training Samples: 9003\n",
            "Valid Samples: 2251\n"
          ]
        }
      ],
      "source": [
        "imagedir =  r'/content/images'\n",
        "csvdata = pd.read_csv(r'/content/SteerGroundTruth.csv');\n",
        "dftown_7=csvdata[csvdata['A'].str.contains('Town07',case=False)]\n",
        "image_paths, steerings = load_img_steering(imagedir, dftown_7)\n",
        "X_train, X_valid, y_train, y_valid = train_test_split(\n",
        "    image_paths, steerings, test_size=0.2, random_state=6\n",
        ")\n",
        "print(\"Training Samples: {}\\nValid Samples: {}\".format(len(X_train), len(X_valid)))"
      ]
    },
    {
      "cell_type": "code",
      "execution_count": null,
      "metadata": {
        "tags": [],
        "colab": {
          "base_uri": "https://localhost:8080/"
        },
        "id": "gU_xg2KfDk1L",
        "outputId": "f4bda296-0918-47fd-800b-a71c363f21f0"
      },
      "outputs": [
        {
          "output_type": "stream",
          "name": "stdout",
          "text": [
            "9003\n"
          ]
        }
      ],
      "source": [
        "print(len(y_train))"
      ]
    },
    {
      "cell_type": "code",
      "execution_count": 101,
      "metadata": {
        "id": "3dB9KZKKZO8q",
        "tags": []
      },
      "outputs": [],
      "source": [
        "def img_preprocessing(img):\n",
        "    cv_img = cv2.imread(img)\n",
        "    roi_img = cv_img[235:, ]  # Region of Interest\n",
        "    res_img = cv2.resize(roi_img, (200, 66), interpolation=cv2.INTER_AREA)  # Resizing the image\n",
        "    return res_img\n"
      ]
    },
    {
      "cell_type": "code",
      "execution_count": 125,
      "metadata": {
        "tags": [],
        "id": "pZFndrpXDk1L"
      },
      "outputs": [],
      "source": [
        "##Image Augmentation\n",
        "## Each time , the steering angle , image gets moderated all at onec\n",
        "def random_flip(image, steering_angle):\n",
        "    image = cv2.flip(image, 1)\n",
        "    steering_angle = -steering_angle\n",
        "    return image, steering_angle\n",
        "\n",
        "\n",
        "def translate(img,x,y):\n",
        "    height,width = img.shape[0],img.shape[1]\n",
        "    matrix = np.float32([[1,0,x],[0,1,0]])\n",
        "    return cv2.warpAffine(img,matrix,(width,height))\n",
        "\n",
        "\n",
        "# Theta value should be negative\n",
        "def rotation(img,steering,angle):\n",
        "    height,width = img.shape[0],img.shape[1]\n",
        "    Matrix = cv2.getRotationMatrix2D((width/2, height/2), angle, 1)\n",
        "    image = cv2.warpAffine(img,Matrix,(width,height))\n",
        "    steering = -angle\n",
        "    return image,steering\n",
        "\n",
        "\n",
        "def augmentation(img,steering):\n",
        "    \"\"\"\n",
        "    Currently I am doing only flipping and translation ,\n",
        "    Because, I don't knew what will happen to rotation\n",
        "    \"\"\"\n",
        "    range_x = 10\n",
        "    range_y = 0\n",
        "    image, steering_angle = random_flip(img, steering)\n",
        "    image = translate(image, range_x, range_y)\n",
        "    \n",
        "    return image, steering_angle\n"
      ]
    },
    {
      "cell_type": "code",
      "execution_count": 126,
      "metadata": {
        "id": "IyMTuAJ4ZS9s",
        "tags": []
      },
      "outputs": [],
      "source": [
        "#The keras will take care of the batchees \n",
        "\n",
        "def train_generator(images,steering,batch_size):\n",
        "   \n",
        "    for x in range(0,len(images),batch_size):\n",
        "      batch_lane_img=[];\n",
        "      batch_steering=[];\n",
        "      batch_imagePath = images[x:x+batch_size]\n",
        "      batch_steer = steering[x:x+batch_size]\n",
        "      img = [img_preprocessing(x) for x in batch_imagePath]\n",
        "      # Code FOR Data Augmentation \n",
        "      for x in range(len(batch_imagePath)):\n",
        "        lane_img,lane_steer = augmentation(img[x],batch_steer[x])\n",
        "        norm_img = lambda x: x / 127.5 - 1\n",
        "        batch_lane_img.append(norm_img(lane_img))\n",
        "        batch_steering.append(lane_steer)  \n",
        "      yield np.asarray(batch_lane_img),np.asarray(batch_steering)  \n",
        "\n",
        "\n",
        "\n",
        "\n"
      ]
    },
    {
      "cell_type": "code",
      "execution_count": 127,
      "metadata": {
        "id": "VTHnk7nmcv1h",
        "tags": []
      },
      "outputs": [],
      "source": [
        "\n",
        "def valid_generator(images,steering,batch_size):\n",
        "    \n",
        "    for x in range(0,len(images),batch_size):\n",
        "      batch_lane_img=[];\n",
        "      batch_imagePath = images[x:x+batch_size]\n",
        "      batch_steer = steering[x:x+batch_size]\n",
        "      img = [img_preprocessing(x) for x in batch_imagePath]\n",
        "      \n",
        "      # Code FOR Data Augmentation \n",
        "      for x in range(len(batch_imagePath)):\n",
        "        norm_img = lambda x: x / 127.5 - 1\n",
        "        batch_lane_img.append(norm_img(img[x]))\n",
        "       \n",
        "      yield np.asarray(batch_lane_img),np.asarray(batch_steer)  \n",
        "\n"
      ]
    },
    {
      "cell_type": "markdown",
      "metadata": {
        "id": "zqdWDwmKauzD"
      },
      "source": [
        "# NVIDIA PilotNet Model"
      ]
    },
    {
      "cell_type": "code",
      "execution_count": 129,
      "metadata": {
        "id": "aYdAVIwIayYr",
        "tags": []
      },
      "outputs": [],
      "source": [
        "\n",
        "def PilotNet():\n",
        "    \n",
        "    model = Sequential()\n",
        "    model.add(Conv2D(24,(5,5),strides=(2,2),input_shape=(66,200,3),activation=\"relu\"))\n",
        "    model.add(Conv2D(36,(5,5),strides=(2,2),activation=\"relu\"))\n",
        "    model.add(Conv2D(48,(5,5),strides=(2,2),activation=\"relu\")) \n",
        "    model.add(Conv2D(64,(3,3),activation=\"relu\"))   \n",
        "    model.add(Conv2D(64,(3,3),activation=\"relu\"))\n",
        "    model.add(Dropout(0.5))\n",
        "    model.add(Flatten())\n",
        "    model.add(Dense(100,activation=\"relu\"))\n",
        "    model.add(Dropout(0.5))\n",
        "    model.add(Dense(50,activation=\"relu\"))\n",
        "    model.add(Dropout(0.5))\n",
        "    model.add(Dense(10,activation=\"relu\"))\n",
        "    model.add(Dropout(0.5))\n",
        "    model.add(Dense(1))\n",
        "    return model\n"
      ]
    },
    {
      "cell_type": "code",
      "execution_count": 130,
      "metadata": {
        "id": "Bb5F0ZmRa0LT",
        "tags": []
      },
      "outputs": [],
      "source": [
        "\n",
        "nvidia_model = PilotNet();\n",
        "es = EarlyStopping(patience=15, restore_best_weights=True, monitor='val_accuracy')\n",
        "checkpoint = ModelCheckpoint(\"Town07.h5\", monitor='val_loss', mode='min', verbose=1, save_best_only=True)\n",
        "nvidia_model.compile(loss=mse,metrics=['accuracy'],optimizer=Adam(lr=1e-3))\n"
      ]
    },
    {
      "cell_type": "code",
      "execution_count": 131,
      "metadata": {
        "colab": {
          "base_uri": "https://localhost:8080/"
        },
        "id": "7iQOmEu650cc",
        "outputId": "473dcf70-553e-4570-e00d-51372f50920a",
        "tags": []
      },
      "outputs": [
        {
          "output_type": "stream",
          "name": "stdout",
          "text": [
            "Model: \"sequential_8\"\n",
            "_________________________________________________________________\n",
            " Layer (type)                Output Shape              Param #   \n",
            "=================================================================\n",
            " conv2d_40 (Conv2D)          (None, 31, 98, 24)        1824      \n",
            "                                                                 \n",
            " conv2d_41 (Conv2D)          (None, 14, 47, 36)        21636     \n",
            "                                                                 \n",
            " conv2d_42 (Conv2D)          (None, 5, 22, 48)         43248     \n",
            "                                                                 \n",
            " conv2d_43 (Conv2D)          (None, 3, 20, 64)         27712     \n",
            "                                                                 \n",
            " conv2d_44 (Conv2D)          (None, 1, 18, 64)         36928     \n",
            "                                                                 \n",
            " dropout_32 (Dropout)        (None, 1, 18, 64)         0         \n",
            "                                                                 \n",
            " flatten_8 (Flatten)         (None, 1152)              0         \n",
            "                                                                 \n",
            " dense_32 (Dense)            (None, 100)               115300    \n",
            "                                                                 \n",
            " dropout_33 (Dropout)        (None, 100)               0         \n",
            "                                                                 \n",
            " dense_33 (Dense)            (None, 50)                5050      \n",
            "                                                                 \n",
            " dropout_34 (Dropout)        (None, 50)                0         \n",
            "                                                                 \n",
            " dense_34 (Dense)            (None, 10)                510       \n",
            "                                                                 \n",
            " dropout_35 (Dropout)        (None, 10)                0         \n",
            "                                                                 \n",
            " dense_35 (Dense)            (None, 1)                 11        \n",
            "                                                                 \n",
            "=================================================================\n",
            "Total params: 252,219\n",
            "Trainable params: 252,219\n",
            "Non-trainable params: 0\n",
            "_________________________________________________________________\n"
          ]
        }
      ],
      "source": [
        "nvidia_model.summary()"
      ]
    },
    {
      "cell_type": "code",
      "execution_count": null,
      "metadata": {
        "colab": {
          "base_uri": "https://localhost:8080/"
        },
        "id": "WmovhJ_ybNAn",
        "outputId": "a3656386-613a-4d35-b2a9-c81c62af6c39",
        "tags": []
      },
      "outputs": [
        {
          "output_type": "stream",
          "name": "stderr",
          "text": [
            "<ipython-input-132-21981b75238b>:2: UserWarning: `Model.fit_generator` is deprecated and will be removed in a future version. Please use `Model.fit`, which supports generators.\n",
            "  nvidia_model.fit_generator(train_generator(X_train, y_train, 32),\n"
          ]
        },
        {
          "output_type": "stream",
          "name": "stdout",
          "text": [
            "Epoch 1/100\n",
            "140/281 [=============>................] - ETA: 29s - loss: 0.0067 - accuracy: 0.0627"
          ]
        }
      ],
      "source": [
        "mini_batch = 32\n",
        "nvidia_model.fit_generator(train_generator(X_train, y_train, 32),\n",
        "                 epochs=100, \n",
        "                 steps_per_epoch=int(len(X_train)/mini_batch),\n",
        "                 validation_data=valid_generator(X_valid, y_valid,32), \n",
        "                 validation_steps=int(len(X_valid)/mini_batch),\n",
        "                 shuffle=False, \n",
        "                 callbacks=[checkpoint, es])"
      ]
    },
    {
      "cell_type": "code",
      "source": [
        "import csv\n",
        "\n",
        "# create a list of integers\n",
        "\n",
        "\n",
        "# open a CSV file for writing\n",
        "with open('numbers.csv', 'w', newline='') as file:\n",
        "    writer = csv.writer(file)\n",
        "\n",
        "    # write each integer to a row in the CSV file\n",
        "    for number in rac_count:\n",
        "        writer.writerow([number])\n",
        "\n"
      ],
      "metadata": {
        "id": "Ci3dcXAGPk8T"
      },
      "execution_count": null,
      "outputs": []
    },
    {
      "cell_type": "code",
      "source": [
        "set_rec = set(train_count)\n",
        "print(len(set_rec))\n",
        "print(len(train_count))"
      ],
      "metadata": {
        "colab": {
          "base_uri": "https://localhost:8080/"
        },
        "id": "aWuVmy3_Qx1v",
        "outputId": "9cd841c5-d46f-407a-8063-a1a36e0d206b"
      },
      "execution_count": 36,
      "outputs": [
        {
          "output_type": "stream",
          "name": "stdout",
          "text": [
            "5730\n",
            "9024\n"
          ]
        }
      ]
    },
    {
      "cell_type": "code",
      "execution_count": 40,
      "metadata": {
        "id": "ML0I4SwpDk1O",
        "colab": {
          "base_uri": "https://localhost:8080/"
        },
        "outputId": "db4ed5b5-0d22-422a-d077-abd78ed82924"
      },
      "outputs": [
        {
          "output_type": "stream",
          "name": "stdout",
          "text": [
            "[[0, 1, 2, 3, 4, 5, 6, 7, 8, 9, 10, 11, 12, 13, 14, 15, 16, 17, 18, 19, 20, 21, 22, 23, 24]]\n",
            "[[0, 1, 2, 3, 4, 5, 6, 7, 8, 9, 10, 11, 12, 13, 14, 15, 16, 17, 18, 19, 20, 21, 22, 23, 24]]\n",
            "[[0, 1, 2, 3, 4, 5, 6, 7, 8, 9, 10, 11, 12, 13, 14, 15, 16, 17, 18, 19, 20, 21, 22, 23, 24]]\n",
            "[[0, 1, 2, 3, 4, 5, 6, 7, 8, 9, 10, 11, 12, 13, 14, 15, 16, 17, 18, 19, 20, 21, 22, 23, 24]]\n"
          ]
        }
      ],
      "source": [
        "def generator():\n",
        "  z=[]\n",
        "  for x in range(0,100,25):\n",
        "    y = [j for j in range(x,x+25)]\n",
        "    z.append(y)\n",
        "    yield z\n",
        "for x in range(4):      \n",
        "  re = next(generator())\n",
        "  print(re)\n"
      ]
    },
    {
      "cell_type": "code",
      "source": [
        "# def generator():\n",
        "#     for x in range(0, 100, 25):\n",
        "#         yield [j for j in range(x, x + 25)]\n",
        "\n",
        "def generator( image_path, steering_angle, batch_size=25):\n",
        "    for x in range(0,len(image_path),batch_size):\n",
        "        batch_id   = image_path[x:x+batch_size]\n",
        "        batch_steer = steering_angle[x:x+batch_size]\n",
        "        batch_path= [x for x in batch_id];\n",
        "        yield np.asarray(batch_path),np.asarray(batch_steer)\n",
        "      \n",
        "    \n",
        "\n",
        "train_df = pd.read_csv('/content/SteerGroundTruth.csv')\n",
        "train_df = train_df[0:100]\n",
        "image_path=[]\n",
        "steering_angle =[]\n",
        "for x in range(100):\n",
        "  index,A,B = train_df.iloc[x]\n",
        "  image_path.append(A)\n",
        "  steering_angle.append(B)\n",
        "\n",
        "my_generator = generator(image_path,steering_angle,batch_size=25)\n",
        "\n",
        "next(my_generator)\n"
      ],
      "metadata": {
        "colab": {
          "base_uri": "https://localhost:8080/"
        },
        "id": "yCMnUXMiSv5w",
        "outputId": "c0b57171-092d-411f-a398-23c2f3e08b19"
      },
      "execution_count": 85,
      "outputs": [
        {
          "output_type": "execute_result",
          "data": {
            "text/plain": [
              "(array(['90003_Town01.jpg', '90004_Town01.jpg', '90005_Town01.jpg',\n",
              "        '90006_Town01.jpg', '90007_Town01.jpg', '90008_Town01.jpg',\n",
              "        '90009_Town01.jpg', '90010_Town01.jpg', '90011_Town01.jpg',\n",
              "        '90012_Town01.jpg', '90013_Town01.jpg', '90014_Town01.jpg',\n",
              "        '90015_Town01.jpg', '90016_Town01.jpg', '90017_Town01.jpg',\n",
              "        '90018_Town01.jpg', '90019_Town01.jpg', '90020_Town01.jpg',\n",
              "        '90021_Town01.jpg', '90022_Town01.jpg', '90023_Town01.jpg',\n",
              "        '90024_Town01.jpg', '90025_Town01.jpg', '90026_Town01.jpg',\n",
              "        '90027_Town01.jpg'], dtype='<U16'),\n",
              " array([-0.07653122, -0.05468272, -0.05468272, -0.05468272, -0.05468272,\n",
              "        -0.05468272, -0.05468272, -0.05468272, -0.05468272, -0.05468272,\n",
              "        -0.05468272, -0.05468272, -0.05468272, -0.05468272, -0.05468272,\n",
              "        -0.05468272, -0.05468272, -0.05468272, -0.05468272, -0.05468272,\n",
              "        -0.05468272, -0.05468272, -0.05069869, -0.05069869, -0.05069869]))"
            ]
          },
          "metadata": {},
          "execution_count": 85
        }
      ]
    },
    {
      "cell_type": "code",
      "source": [
        "next(my_generator)"
      ],
      "metadata": {
        "colab": {
          "base_uri": "https://localhost:8080/",
          "height": 165
        },
        "id": "BfD2PrmeUIb3",
        "outputId": "2968f667-b374-4336-d05e-3575889fb863"
      },
      "execution_count": 89,
      "outputs": [
        {
          "output_type": "error",
          "ename": "StopIteration",
          "evalue": "ignored",
          "traceback": [
            "\u001b[0;31m---------------------------------------------------------------------------\u001b[0m",
            "\u001b[0;31mStopIteration\u001b[0m                             Traceback (most recent call last)",
            "\u001b[0;32m<ipython-input-89-beb7403f481d>\u001b[0m in \u001b[0;36m<module>\u001b[0;34m\u001b[0m\n\u001b[0;32m----> 1\u001b[0;31m \u001b[0mnext\u001b[0m\u001b[0;34m(\u001b[0m\u001b[0mmy_generator\u001b[0m\u001b[0;34m)\u001b[0m\u001b[0;34m\u001b[0m\u001b[0;34m\u001b[0m\u001b[0m\n\u001b[0m",
            "\u001b[0;31mStopIteration\u001b[0m: "
          ]
        }
      ]
    },
    {
      "cell_type": "code",
      "source": [
        "next(my_generator)"
      ],
      "metadata": {
        "colab": {
          "base_uri": "https://localhost:8080/"
        },
        "id": "cT5wtHIEUNJP",
        "outputId": "f0534f17-c137-4b44-d0f5-b2c73b0c8b0a"
      },
      "execution_count": 81,
      "outputs": [
        {
          "output_type": "execute_result",
          "data": {
            "text/plain": [
              "(array(['90054_Town01.jpg', '90055_Town01.jpg', '90056_Town01.jpg',\n",
              "        '90057_Town01.jpg', '90058_Town01.jpg', '90060_Town01.jpg',\n",
              "        '90061_Town01.jpg', '90063_Town01.jpg', '90064_Town01.jpg',\n",
              "        '90065_Town01.jpg', '90066_Town01.jpg', '90067_Town01.jpg',\n",
              "        '90068_Town01.jpg', '90069_Town01.jpg', '90070_Town01.jpg',\n",
              "        '90071_Town01.jpg', '90072_Town01.jpg', '90073_Town01.jpg',\n",
              "        '90074_Town01.jpg', '90075_Town01.jpg', '90076_Town01.jpg',\n",
              "        '90077_Town01.jpg', '90078_Town01.jpg', '90080_Town01.jpg',\n",
              "        '90081_Town01.jpg'], dtype='<U16'),\n",
              " array([-8.13172664e-06, -8.13172664e-06, -2.48524186e-04, -2.48524186e-04,\n",
              "        -2.48524186e-04,  0.00000000e+00,  0.00000000e+00,  0.00000000e+00,\n",
              "         0.00000000e+00,  0.00000000e+00,  0.00000000e+00,  0.00000000e+00,\n",
              "         6.15560450e-04,  6.15560450e-04,  6.15560450e-04,  6.15560450e-04,\n",
              "         2.09874995e-02,  2.09874995e-02,  2.09874995e-02,  2.09874995e-02,\n",
              "         1.58605501e-02,  1.58605501e-02,  1.58605501e-02,  1.58605501e-02,\n",
              "         8.68649874e-03]))"
            ]
          },
          "metadata": {},
          "execution_count": 81
        }
      ]
    },
    {
      "cell_type": "code",
      "source": [
        "next(my_generator)"
      ],
      "metadata": {
        "colab": {
          "base_uri": "https://localhost:8080/"
        },
        "id": "tCntW61VexsC",
        "outputId": "c541a105-aced-4cf3-a90e-ef6f638de0fb"
      },
      "execution_count": 82,
      "outputs": [
        {
          "output_type": "execute_result",
          "data": {
            "text/plain": [
              "(array(['90082_Town01.jpg', '90083_Town01.jpg', '90084_Town01.jpg',\n",
              "        '90085_Town01.jpg', '90086_Town01.jpg', '90087_Town01.jpg',\n",
              "        '90088_Town01.jpg', '90089_Town01.jpg', '90090_Town01.jpg',\n",
              "        '90091_Town01.jpg', '90092_Town01.jpg', '90094_Town01.jpg',\n",
              "        '90095_Town01.jpg', '90096_Town01.jpg', '90097_Town01.jpg',\n",
              "        '90098_Town01.jpg', '90099_Town01.jpg', '90100_Town01.jpg',\n",
              "        '90101_Town01.jpg', '90103_Town01.jpg', '90104_Town01.jpg',\n",
              "        '90105_Town01.jpg', '90106_Town01.jpg', '90108_Town01.jpg',\n",
              "        '90109_Town01.jpg'], dtype='<U16'),\n",
              " array([ 0.0086865 ,  0.0086865 ,  0.0086865 ,  0.00301848,  0.00301848,\n",
              "         0.00301848, -0.00013273, -0.00013273, -0.00013273, -0.00055572,\n",
              "        -0.00055572, -0.00055572, -0.00055572,  0.00651448,  0.00651448,\n",
              "         0.00651448,  0.00651448,  0.00515869,  0.00515869,  0.00515869,\n",
              "         0.00332725,  0.00332725,  0.00332725,  0.00155591,  0.00155591]))"
            ]
          },
          "metadata": {},
          "execution_count": 82
        }
      ]
    },
    {
      "cell_type": "code",
      "source": [
        "train_df"
      ],
      "metadata": {
        "colab": {
          "base_uri": "https://localhost:8080/",
          "height": 423
        },
        "id": "rPad6ijhe0Bf",
        "outputId": "d1fffe19-144a-4e8c-8d69-d5eccc54c1e8"
      },
      "execution_count": 76,
      "outputs": [
        {
          "output_type": "execute_result",
          "data": {
            "text/plain": [
              "    index                 A         B\n",
              "0       0  90003_Town01.jpg -0.076531\n",
              "1       1  90004_Town01.jpg -0.054683\n",
              "2       2  90005_Town01.jpg -0.054683\n",
              "3       3  90006_Town01.jpg -0.054683\n",
              "4       4  90007_Town01.jpg -0.054683\n",
              "..    ...               ...       ...\n",
              "95     95  90104_Town01.jpg  0.003327\n",
              "96     96  90105_Town01.jpg  0.003327\n",
              "97     97  90106_Town01.jpg  0.003327\n",
              "98     98  90108_Town01.jpg  0.001556\n",
              "99     99  90109_Town01.jpg  0.001556\n",
              "\n",
              "[100 rows x 3 columns]"
            ],
            "text/html": [
              "\n",
              "  <div id=\"df-579d7982-9cf8-41a5-8f7e-4b1bd787bf73\">\n",
              "    <div class=\"colab-df-container\">\n",
              "      <div>\n",
              "<style scoped>\n",
              "    .dataframe tbody tr th:only-of-type {\n",
              "        vertical-align: middle;\n",
              "    }\n",
              "\n",
              "    .dataframe tbody tr th {\n",
              "        vertical-align: top;\n",
              "    }\n",
              "\n",
              "    .dataframe thead th {\n",
              "        text-align: right;\n",
              "    }\n",
              "</style>\n",
              "<table border=\"1\" class=\"dataframe\">\n",
              "  <thead>\n",
              "    <tr style=\"text-align: right;\">\n",
              "      <th></th>\n",
              "      <th>index</th>\n",
              "      <th>A</th>\n",
              "      <th>B</th>\n",
              "    </tr>\n",
              "  </thead>\n",
              "  <tbody>\n",
              "    <tr>\n",
              "      <th>0</th>\n",
              "      <td>0</td>\n",
              "      <td>90003_Town01.jpg</td>\n",
              "      <td>-0.076531</td>\n",
              "    </tr>\n",
              "    <tr>\n",
              "      <th>1</th>\n",
              "      <td>1</td>\n",
              "      <td>90004_Town01.jpg</td>\n",
              "      <td>-0.054683</td>\n",
              "    </tr>\n",
              "    <tr>\n",
              "      <th>2</th>\n",
              "      <td>2</td>\n",
              "      <td>90005_Town01.jpg</td>\n",
              "      <td>-0.054683</td>\n",
              "    </tr>\n",
              "    <tr>\n",
              "      <th>3</th>\n",
              "      <td>3</td>\n",
              "      <td>90006_Town01.jpg</td>\n",
              "      <td>-0.054683</td>\n",
              "    </tr>\n",
              "    <tr>\n",
              "      <th>4</th>\n",
              "      <td>4</td>\n",
              "      <td>90007_Town01.jpg</td>\n",
              "      <td>-0.054683</td>\n",
              "    </tr>\n",
              "    <tr>\n",
              "      <th>...</th>\n",
              "      <td>...</td>\n",
              "      <td>...</td>\n",
              "      <td>...</td>\n",
              "    </tr>\n",
              "    <tr>\n",
              "      <th>95</th>\n",
              "      <td>95</td>\n",
              "      <td>90104_Town01.jpg</td>\n",
              "      <td>0.003327</td>\n",
              "    </tr>\n",
              "    <tr>\n",
              "      <th>96</th>\n",
              "      <td>96</td>\n",
              "      <td>90105_Town01.jpg</td>\n",
              "      <td>0.003327</td>\n",
              "    </tr>\n",
              "    <tr>\n",
              "      <th>97</th>\n",
              "      <td>97</td>\n",
              "      <td>90106_Town01.jpg</td>\n",
              "      <td>0.003327</td>\n",
              "    </tr>\n",
              "    <tr>\n",
              "      <th>98</th>\n",
              "      <td>98</td>\n",
              "      <td>90108_Town01.jpg</td>\n",
              "      <td>0.001556</td>\n",
              "    </tr>\n",
              "    <tr>\n",
              "      <th>99</th>\n",
              "      <td>99</td>\n",
              "      <td>90109_Town01.jpg</td>\n",
              "      <td>0.001556</td>\n",
              "    </tr>\n",
              "  </tbody>\n",
              "</table>\n",
              "<p>100 rows × 3 columns</p>\n",
              "</div>\n",
              "      <button class=\"colab-df-convert\" onclick=\"convertToInteractive('df-579d7982-9cf8-41a5-8f7e-4b1bd787bf73')\"\n",
              "              title=\"Convert this dataframe to an interactive table.\"\n",
              "              style=\"display:none;\">\n",
              "        \n",
              "  <svg xmlns=\"http://www.w3.org/2000/svg\" height=\"24px\"viewBox=\"0 0 24 24\"\n",
              "       width=\"24px\">\n",
              "    <path d=\"M0 0h24v24H0V0z\" fill=\"none\"/>\n",
              "    <path d=\"M18.56 5.44l.94 2.06.94-2.06 2.06-.94-2.06-.94-.94-2.06-.94 2.06-2.06.94zm-11 1L8.5 8.5l.94-2.06 2.06-.94-2.06-.94L8.5 2.5l-.94 2.06-2.06.94zm10 10l.94 2.06.94-2.06 2.06-.94-2.06-.94-.94-2.06-.94 2.06-2.06.94z\"/><path d=\"M17.41 7.96l-1.37-1.37c-.4-.4-.92-.59-1.43-.59-.52 0-1.04.2-1.43.59L10.3 9.45l-7.72 7.72c-.78.78-.78 2.05 0 2.83L4 21.41c.39.39.9.59 1.41.59.51 0 1.02-.2 1.41-.59l7.78-7.78 2.81-2.81c.8-.78.8-2.07 0-2.86zM5.41 20L4 18.59l7.72-7.72 1.47 1.35L5.41 20z\"/>\n",
              "  </svg>\n",
              "      </button>\n",
              "      \n",
              "  <style>\n",
              "    .colab-df-container {\n",
              "      display:flex;\n",
              "      flex-wrap:wrap;\n",
              "      gap: 12px;\n",
              "    }\n",
              "\n",
              "    .colab-df-convert {\n",
              "      background-color: #E8F0FE;\n",
              "      border: none;\n",
              "      border-radius: 50%;\n",
              "      cursor: pointer;\n",
              "      display: none;\n",
              "      fill: #1967D2;\n",
              "      height: 32px;\n",
              "      padding: 0 0 0 0;\n",
              "      width: 32px;\n",
              "    }\n",
              "\n",
              "    .colab-df-convert:hover {\n",
              "      background-color: #E2EBFA;\n",
              "      box-shadow: 0px 1px 2px rgba(60, 64, 67, 0.3), 0px 1px 3px 1px rgba(60, 64, 67, 0.15);\n",
              "      fill: #174EA6;\n",
              "    }\n",
              "\n",
              "    [theme=dark] .colab-df-convert {\n",
              "      background-color: #3B4455;\n",
              "      fill: #D2E3FC;\n",
              "    }\n",
              "\n",
              "    [theme=dark] .colab-df-convert:hover {\n",
              "      background-color: #434B5C;\n",
              "      box-shadow: 0px 1px 3px 1px rgba(0, 0, 0, 0.15);\n",
              "      filter: drop-shadow(0px 1px 2px rgba(0, 0, 0, 0.3));\n",
              "      fill: #FFFFFF;\n",
              "    }\n",
              "  </style>\n",
              "\n",
              "      <script>\n",
              "        const buttonEl =\n",
              "          document.querySelector('#df-579d7982-9cf8-41a5-8f7e-4b1bd787bf73 button.colab-df-convert');\n",
              "        buttonEl.style.display =\n",
              "          google.colab.kernel.accessAllowed ? 'block' : 'none';\n",
              "\n",
              "        async function convertToInteractive(key) {\n",
              "          const element = document.querySelector('#df-579d7982-9cf8-41a5-8f7e-4b1bd787bf73');\n",
              "          const dataTable =\n",
              "            await google.colab.kernel.invokeFunction('convertToInteractive',\n",
              "                                                     [key], {});\n",
              "          if (!dataTable) return;\n",
              "\n",
              "          const docLinkHtml = 'Like what you see? Visit the ' +\n",
              "            '<a target=\"_blank\" href=https://colab.research.google.com/notebooks/data_table.ipynb>data table notebook</a>'\n",
              "            + ' to learn more about interactive tables.';\n",
              "          element.innerHTML = '';\n",
              "          dataTable['output_type'] = 'display_data';\n",
              "          await google.colab.output.renderOutput(dataTable, element);\n",
              "          const docLink = document.createElement('div');\n",
              "          docLink.innerHTML = docLinkHtml;\n",
              "          element.appendChild(docLink);\n",
              "        }\n",
              "      </script>\n",
              "    </div>\n",
              "  </div>\n",
              "  "
            ]
          },
          "metadata": {},
          "execution_count": 76
        }
      ]
    },
    {
      "cell_type": "code",
      "source": [],
      "metadata": {
        "id": "i-x1RE0khrYC"
      },
      "execution_count": null,
      "outputs": []
    }
  ],
  "metadata": {
    "accelerator": "GPU",
    "colab": {
      "provenance": []
    },
    "gpuClass": "standard",
    "kernelspec": {
      "display_name": "Python 3 (ipykernel)",
      "language": "python",
      "name": "python3"
    },
    "language_info": {
      "codemirror_mode": {
        "name": "ipython",
        "version": 3
      },
      "file_extension": ".py",
      "mimetype": "text/x-python",
      "name": "python",
      "nbconvert_exporter": "python",
      "pygments_lexer": "ipython3",
      "version": "3.7.6"
    },
    "vscode": {
      "interpreter": {
        "hash": "46decf7c3ed8b597c670d529d1f8c5d2fe8750a095cab9299eb76cecb2b75e8f"
      }
    }
  },
  "nbformat": 4,
  "nbformat_minor": 0
}